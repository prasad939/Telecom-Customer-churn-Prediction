{
 "cells": [
  {
   "cell_type": "code",
   "execution_count": null,
   "id": "f96db426-3f74-40fa-9e3c-635737a188c0",
   "metadata": {},
   "outputs": [],
   "source": [
    "import pandas as pd\n",
    "from sklearn import metrics\n",
    "from sklearn.model_selection import train_test_split\n",
    "from sklearn.metrics import recall_score\n",
    "from sklearn.metrics import classification_report\n",
    "from sklearn.metrics import confusion_matrix\n",
    "from sklearn.tree import DecisionTreeClassifier\n",
    "from imblearn.combine import SMOTEENN"
   ]
  },
  {
   "cell_type": "markdown",
   "id": "a49e41f7-ab8a-4c03-9357-bd1235541633",
   "metadata": {},
   "source": [
    "## Reading csv"
   ]
  },
  {
   "cell_type": "code",
   "execution_count": null,
   "id": "f95f7266-e559-4652-a284-e257b05b74ee",
   "metadata": {},
   "outputs": [],
   "source": [
    "df=pd.read_csv(\"tel_churn.csv\")\n",
    "df.head()"
   ]
  },
  {
   "cell_type": "code",
   "execution_count": null,
   "id": "c2a59bc5-86a4-4f65-b683-861c0bf659e2",
   "metadata": {},
   "outputs": [],
   "source": [
    "df=df.drop('Unnamed: 0',axis=1)"
   ]
  },
  {
   "cell_type": "code",
   "execution_count": null,
   "id": "278d91d3-8f45-4d76-9030-55770726372b",
   "metadata": {},
   "outputs": [],
   "source": [
    "x=df.drop('Churn',axis=1)\n",
    "x"
   ]
  },
  {
   "cell_type": "code",
   "execution_count": null,
   "id": "521444fd-f4d6-475f-bd83-04e9bdba4aab",
   "metadata": {},
   "outputs": [],
   "source": [
    "y=df['Churn']\n",
    "y"
   ]
  },
  {
   "cell_type": "markdown",
   "id": "2d69f345-36c9-4846-84ce-457abcbc1a84",
   "metadata": {},
   "source": [
    "## Train Test Split"
   ]
  },
  {
   "cell_type": "code",
   "execution_count": null,
   "id": "1e823a05-b039-4d8b-9e6c-98f8f2a4d40f",
   "metadata": {},
   "outputs": [],
   "source": [
    "x_train,x_test,y_train,y_test=train_test_split(x,y,test_size=0.2)"
   ]
  },
  {
   "cell_type": "markdown",
   "id": "a1c8cbb7-1a00-4d70-a7d8-a0df532bbb72",
   "metadata": {},
   "source": [
    "## Decision Tree Classifier"
   ]
  },
  {
   "cell_type": "code",
   "execution_count": null,
   "id": "0843e78e-d604-4048-a840-40b69875f1ef",
   "metadata": {},
   "outputs": [],
   "source": [
    "model_dt=DecisionTreeClassifier(criterion = \"gini\",random_state = 100,max_depth=6, min_samples_leaf=8)"
   ]
  },
  {
   "cell_type": "code",
   "execution_count": null,
   "id": "a4ac0abd-5d4e-4572-a761-090298959efa",
   "metadata": {},
   "outputs": [],
   "source": [
    "model_dt.fit(x_train,y_train)"
   ]
  },
  {
   "cell_type": "code",
   "execution_count": null,
   "id": "51deefff-2241-43d5-8858-7d21b3f19dca",
   "metadata": {},
   "outputs": [],
   "source": [
    "y_pred=model_dt.predict(x_test)\n",
    "y_pred"
   ]
  },
  {
   "cell_type": "code",
   "execution_count": null,
   "id": "7cf8847d-0dd0-4d29-9830-3f9beaaa157f",
   "metadata": {},
   "outputs": [],
   "source": [
    "model_dt.score(x_test,y_test)"
   ]
  },
  {
   "cell_type": "code",
   "execution_count": null,
   "id": "71268690-0f03-45a4-8eaa-f5a57862014b",
   "metadata": {},
   "outputs": [],
   "source": [
    "print(classification_report(y_test, y_pred, labels=[0,1]))"
   ]
  },
  {
   "cell_type": "markdown",
   "id": "7f5a79a8-dd2f-4d2f-81a6-6bee528b542e",
   "metadata": {},
   "source": [
    "#### As you can see that the accuracy is quite low, and as it's an imbalanced dataset, we shouldn't consider Accuracy as our metrics to measure the model, as Accuracy is cursed in imbalanced datasets.\n",
    "- Hence, we need to check recall, precision & f1 score for the minority class, and it's quite evident that the precision, recall & f1 score is too low for Class 1, i.e. churned customers.\n",
    "- Hence, moving ahead to call SMOTEENN (UpSampling + ENN)"
   ]
  },
  {
   "cell_type": "code",
   "execution_count": null,
   "id": "9ac1429d-575f-4909-b897-1f2e9e0964e5",
   "metadata": {},
   "outputs": [],
   "source": [
    "sm = SMOTEENN()\n",
    "X_resampled, y_resampled = sm.fit_sample(x,y)"
   ]
  },
  {
   "cell_type": "code",
   "execution_count": null,
   "id": "656ac3e5-5f53-40f9-b134-cbc4c0bc3233",
   "metadata": {},
   "outputs": [],
   "source": [
    "xr_train,xr_test,yr_train,yr_test=train_test_split(X_resampled, y_resampled,test_size=0.2)"
   ]
  },
  {
   "cell_type": "code",
   "execution_count": null,
   "id": "823875d0-d9b8-42f1-b9c2-cce0825ad27a",
   "metadata": {},
   "outputs": [],
   "source": [
    "model_dt_smote=DecisionTreeClassifier(criterion = \"gini\",random_state = 100,max_depth=6, min_samples_leaf=8)"
   ]
  },
  {
   "cell_type": "code",
   "execution_count": null,
   "id": "74e7a7b1-f0ab-499a-85f5-9c9dceb03aac",
   "metadata": {},
   "outputs": [],
   "source": [
    "model_dt_smote.fit(xr_train,yr_train)\n",
    "yr_predict = model_dt_smote.predict(xr_test)\n",
    "model_score_r = model_dt_smote.score(xr_test, yr_test)\n",
    "print(model_score_r)\n",
    "print(metrics.classification_report(yr_test, yr_predict))"
   ]
  },
  {
   "cell_type": "code",
   "execution_count": null,
   "id": "e72a9fad-23cc-4526-980e-7619119f3e7e",
   "metadata": {},
   "outputs": [],
   "source": [
    "print(metrics.confusion_matrix(yr_test, yr_predict))"
   ]
  },
  {
   "cell_type": "markdown",
   "id": "46ca55fd-0e4d-4ed0-8c3b-8732bbd9fd2c",
   "metadata": {},
   "source": [
    "- Now we can see quite better results, i.e., Accuracy: 92 %, and a very good recall, precision & f1 score for minority class.\n",
    "- Let's try with some other classifier."
   ]
  },
  {
   "cell_type": "markdown",
   "id": "5719f3af-2b9b-48c4-8e51-eaa12f6c6880",
   "metadata": {},
   "source": [
    "### Random Forest Classifier"
   ]
  },
  {
   "cell_type": "code",
   "execution_count": null,
   "id": "32a4c0ba-1f80-49b6-b387-1a0824c51b2f",
   "metadata": {},
   "outputs": [],
   "source": [
    "from sklearn.ensemble import RandomForestClassifier"
   ]
  },
  {
   "cell_type": "code",
   "execution_count": null,
   "id": "e4c06973-5354-4167-819d-0079dbf1f9ec",
   "metadata": {},
   "outputs": [],
   "source": [
    "model_rf=RandomForestClassifier(n_estimators=100, criterion='gini', random_state = 100,max_depth=6, min_samples_leaf=8)"
   ]
  },
  {
   "cell_type": "code",
   "execution_count": null,
   "id": "aafe6ec4-442f-4862-ae92-5a2f43e0677a",
   "metadata": {},
   "outputs": [],
   "source": [
    "model_rf.fit(x_train,y_train)"
   ]
  },
  {
   "cell_type": "code",
   "execution_count": null,
   "id": "2a2b5237-2a11-4845-a8f8-e1339c793b29",
   "metadata": {},
   "outputs": [],
   "source": [
    "y_pred=model_rf.predict(x_test)"
   ]
  },
  {
   "cell_type": "code",
   "execution_count": null,
   "id": "975f3275-41fb-43ef-b01c-73cecce276fd",
   "metadata": {},
   "outputs": [],
   "source": [
    "model_rf.score(x_test,y_test)"
   ]
  },
  {
   "cell_type": "code",
   "execution_count": null,
   "id": "d0a5bdd1-e4d8-4116-b68a-fe304142b6cf",
   "metadata": {},
   "outputs": [],
   "source": [
    "print(classification_report(y_test, y_pred, labels=[0,1]))"
   ]
  },
  {
   "cell_type": "code",
   "execution_count": null,
   "id": "ec8877cc-b82d-4b89-8a42-3f3dd29125a1",
   "metadata": {},
   "outputs": [],
   "source": [
    "sm = SMOTEENN()\n",
    "X_resampled1, y_resampled1 = sm.fit_sample(x,y)"
   ]
  },
  {
   "cell_type": "code",
   "execution_count": null,
   "id": "421d72e7-f522-4b87-9b96-378fdb26a8a0",
   "metadata": {},
   "outputs": [],
   "source": [
    "xr_train1,xr_test1,yr_train1,yr_test1=train_test_split(X_resampled1, y_resampled1,test_size=0.2)"
   ]
  },
  {
   "cell_type": "code",
   "execution_count": null,
   "id": "1dd84197-2780-4e6d-aafe-e4da634d75c9",
   "metadata": {},
   "outputs": [],
   "source": [
    "model_rf_smote=RandomForestClassifier(n_estimators=100, criterion='gini', random_state = 100,max_depth=6, min_samples_leaf=8)"
   ]
  },
  {
   "cell_type": "code",
   "execution_count": null,
   "id": "98f34d3a-e0da-472c-abe5-5e4261cd218d",
   "metadata": {},
   "outputs": [],
   "source": [
    "model_rf_smote.fit(xr_train1,yr_train1)"
   ]
  },
  {
   "cell_type": "code",
   "execution_count": null,
   "id": "1eaa876e-f5d6-448b-be9b-08baf22d8c7a",
   "metadata": {},
   "outputs": [],
   "source": [
    "yr_predict1 = model_rf_smote.predict(xr_test1)"
   ]
  },
  {
   "cell_type": "code",
   "execution_count": null,
   "id": "5b07cc5a-0617-4830-82bb-53bde9d23692",
   "metadata": {},
   "outputs": [],
   "source": [
    "model_score_r1 = model_rf_smote.score(xr_test1, yr_test1)"
   ]
  },
  {
   "cell_type": "code",
   "execution_count": null,
   "id": "ab3e4536-9c02-4a3d-8a6f-29e1021c679e",
   "metadata": {},
   "outputs": [],
   "source": [
    "print(model_score_r1)\n",
    "print(metrics.classification_report(yr_test1, yr_predict1))"
   ]
  },
  {
   "cell_type": "code",
   "execution_count": null,
   "id": "04cb69b0-2d97-4efc-a7a5-793a16a68c40",
   "metadata": {},
   "outputs": [],
   "source": [
    "print(metrics.confusion_matrix(yr_test1, yr_predict1))"
   ]
  },
  {
   "cell_type": "markdown",
   "id": "52823ae8-abcf-45cc-84e2-b43a3fb85cf3",
   "metadata": {},
   "source": [
    "- With RF Classifier, also I are also able to get quite good results, in fact better than Decision Tree.\n",
    "- I can now further go ahead and create multiple classifiers to see how the model performance is, but that's not covered here, so you can do i"
   ]
  },
  {
   "cell_type": "markdown",
   "id": "6de9ada1-b124-48fc-8635-dae1fb498de7",
   "metadata": {},
   "source": [
    "### Performing PCA"
   ]
  },
  {
   "cell_type": "code",
   "execution_count": null,
   "id": "a5a2c8f4-7b5e-4049-b312-a45d21c3424c",
   "metadata": {},
   "outputs": [],
   "source": [
    "# Applying PCA\n",
    "from sklearn.decomposition import PCA\n",
    "pca = PCA(0.9)\n",
    "xr_train_pca = pca.fit_transform(xr_train1)\n",
    "xr_test_pca = pca.transform(xr_test1)\n",
    "explained_variance = pca.explained_variance_ratio_"
   ]
  },
  {
   "cell_type": "code",
   "execution_count": null,
   "id": "6f35e641-85f2-44a6-8a38-a51075814353",
   "metadata": {},
   "outputs": [],
   "source": [
    "model=RandomForestClassifier(n_estimators=100, criterion='gini', random_state = 100,max_depth=6, min_samples_leaf=8)"
   ]
  },
  {
   "cell_type": "code",
   "execution_count": null,
   "id": "f8ce0a32-ba7a-4c82-9517-61bba16ccf64",
   "metadata": {},
   "outputs": [],
   "source": [
    "model.fit(xr_train_pca,yr_train1)"
   ]
  },
  {
   "cell_type": "code",
   "execution_count": null,
   "id": "afdf1bda-67d4-4bd1-a7a5-1b53c190fcb4",
   "metadata": {},
   "outputs": [],
   "source": [
    "yr_predict_pca = model.predict(xr_test_pca)"
   ]
  },
  {
   "cell_type": "code",
   "execution_count": null,
   "id": "a2d2d75d-900b-482d-98b7-5fbab7d5a483",
   "metadata": {},
   "outputs": [],
   "source": [
    "model_score_r_pca = model.score(xr_test_pca, yr_test1)"
   ]
  },
  {
   "cell_type": "code",
   "execution_count": null,
   "id": "5732f8e0-7d12-453a-98d0-af0df18d1891",
   "metadata": {},
   "outputs": [],
   "source": [
    "print(model_score_r_pca)\n",
    "print(metrics.classification_report(yr_test1, yr_predict_pca))"
   ]
  },
  {
   "cell_type": "markdown",
   "id": "747d8c84-3ac3-4497-aea0-7dbc87c9b57d",
   "metadata": {},
   "source": [
    "- With PCA, I couldn't see any better results, hence let's finalise the model which was created by RF Classifier, and save the model so that we can use it in a later stage :)\n"
   ]
  },
  {
   "cell_type": "markdown",
   "id": "4fc6cae5-9a4f-4310-aea3-a04b8e6359df",
   "metadata": {},
   "source": [
    "## Pickling the model"
   ]
  },
  {
   "cell_type": "code",
   "execution_count": null,
   "id": "a3fd6dcf-bdba-4764-9ba7-3ef7b0d77b5e",
   "metadata": {},
   "outputs": [],
   "source": [
    "import pickle"
   ]
  },
  {
   "cell_type": "code",
   "execution_count": null,
   "id": "e59bd549-7f2b-4f56-9ae0-4ee15181be76",
   "metadata": {},
   "outputs": [],
   "source": [
    "filename = 'model.sav'"
   ]
  },
  {
   "cell_type": "code",
   "execution_count": null,
   "id": "4b6628c8-6179-41a1-bf06-da4b58200ae5",
   "metadata": {},
   "outputs": [],
   "source": [
    "pickle.dump(model_rf_smote, open(filename, 'wb'))"
   ]
  },
  {
   "cell_type": "code",
   "execution_count": null,
   "id": "13e0f491-c48f-4e8f-b6e6-0a091eb93a37",
   "metadata": {},
   "outputs": [],
   "source": [
    "load_model = pickle.load(open(filename, 'rb'))"
   ]
  },
  {
   "cell_type": "code",
   "execution_count": null,
   "id": "4018c79a-3c72-4dce-b10b-a9916552d33d",
   "metadata": {},
   "outputs": [],
   "source": [
    "model_score_r1 = load_model.score(xr_test1, yr_test1)"
   ]
  },
  {
   "cell_type": "code",
   "execution_count": null,
   "id": "686c673d-034b-4bbd-80be-2058dae27dc4",
   "metadata": {},
   "outputs": [],
   "source": [
    "model_score_r1"
   ]
  },
  {
   "cell_type": "markdown",
   "id": "fa5c445b-e532-403d-8452-e1df31895659",
   "metadata": {},
   "source": [
    "My final model i.e., RF Classifier with SMOTEENN, is now ready and dumped in model.sav, which I will use and prepare API's so that I can access our model from UI."
   ]
  }
 ],
 "metadata": {
  "kernelspec": {
   "display_name": "Python 3 (ipykernel)",
   "language": "python",
   "name": "python3"
  },
  "language_info": {
   "codemirror_mode": {
    "name": "ipython",
    "version": 3
   },
   "file_extension": ".py",
   "mimetype": "text/x-python",
   "name": "python",
   "nbconvert_exporter": "python",
   "pygments_lexer": "ipython3",
   "version": "3.8.20"
  }
 },
 "nbformat": 4,
 "nbformat_minor": 5
}
